{
  "nbformat": 4,
  "nbformat_minor": 0,
  "metadata": {
    "colab": {
      "provenance": [],
      "toc_visible": true
    },
    "kernelspec": {
      "name": "python3",
      "display_name": "Python 3"
    },
    "language_info": {
      "name": "python"
    }
  },
  "cells": [
    {
      "cell_type": "markdown",
      "source": [
        "# ↓Click it step by step :)"
      ],
      "metadata": {
        "id": "1qOhmc4-QqMV"
      }
    },
    {
      "cell_type": "code",
      "execution_count": null,
      "metadata": {
        "id": "Ag9nCMQ2zv4j"
      },
      "outputs": [],
      "source": [
        "#@title start { display-mode: \"form\" }\n",
        "!pip install openai\n",
        "!pip install ipywidgets"
      ]
    },
    {
      "cell_type": "code",
      "source": [
        "#@title OPENAI API Key { display-mode: \"form\" }\n",
        "import openai\n",
        "import requests\n",
        "from bs4 import BeautifulSoup\n",
        "import ipywidgets as widgets\n",
        "from IPython.display import display\n",
        "\n",
        "\n",
        "openai.api_key = \"\"  #@param {type: \"string\"}\n"
      ],
      "metadata": {
        "id": "jYu_utDpz_kt"
      },
      "execution_count": null,
      "outputs": []
    },
    {
      "cell_type": "code",
      "source": [
        "#@title ChatGPT_Bot { form-width: \"30%\", display-mode: \"form\" }\n",
        "\n",
        "AI_character = \"expert\" #@param {type: \"string\"}\n",
        "conversation = \"\"\n",
        "\n",
        "creativity = 0.7 #@param {type:\"slider\", min:0, max:1, step:0.1}\n",
        "\n",
        "conversation = \"\"\n",
        "user_input_widget = widgets.Textarea(placeholder='say something...', \n",
        "layout=widgets.Layout(width='70%', height='200px'))\n",
        "\n",
        "def on_button_click(_):\n",
        "    global conversation\n",
        "\n",
        "    user_input = user_input_widget.value.strip()\n",
        "  \n",
        "    # Add user input to conversation\n",
        "    conversation += \"【User】: \" + user_input.strip() + \"\\n\\n\"\n",
        "\n",
        "    if len(user_input) == 0:\n",
        "        return\n",
        "  \n",
        "    if user_input == \"end\":\n",
        "        return\n",
        "\n",
        "    # Use API to get AI response\n",
        "    response = openai.ChatCompletion.create(\n",
        "      model=\"gpt-3.5-turbo\",\n",
        "      messages=[\n",
        "        {\"role\": \"system\", \"content\": f\"{AI_character}\"},\n",
        "        {\"role\": \"user\", \"content\": f\"{conversation}\"}\n",
        "      ],\n",
        "      temperature = creativity,\n",
        "   ) \n",
        "    \n",
        "    # Get AI response and add to conversation\n",
        "    ai_response = response['choices'][0]['message']['content']\n",
        "    conversation += f\"\\033[32m【AI】: {ai_response}\\n\\n\\033[0m\"\n",
        "\n",
        "    # Append messages to list\n",
        "    messages.append({\"role\": \"user\", \"content\": user_input})\n",
        "    messages.append({\"role\": \"assistant\", \"content\": ai_response})\n",
        "\n",
        "    # Remove the first message(s) if max_messages is exceeded\n",
        "    if len(messages) > max_messages * 2:\n",
        "        messages.pop(0)\n",
        "        messages.pop(0)\n",
        "\n",
        "    # Clear user input widget\n",
        "    user_input_widget.value = \"\"\n",
        "\n",
        "    # Print conversation\n",
        "    #print(f\"{conversation}\\n\\n{'-'*30}\\n\")\n",
        "    print(f\"【我】:{user_input}\")\n",
        "    print(f\"\\033[32m【AI】: {ai_response}\\n\\n\\033[0m\")\n",
        "\n",
        "display(user_input_widget) # Display the widget on the screen\n",
        "\n",
        "send_button = widgets.Button(description=\"Send\")\n",
        "send_button.on_click(on_button_click)\n",
        "display(send_button) # Display send button next to input widget"
      ],
      "metadata": {
        "id": "2VnuH59j2qZJ"
      },
      "execution_count": null,
      "outputs": []
    }
  ]
}